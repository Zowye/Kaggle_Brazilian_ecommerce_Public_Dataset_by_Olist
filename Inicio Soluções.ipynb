{
 "cells": [
  {
   "cell_type": "code",
   "execution_count": 2,
   "id": "10046739",
   "metadata": {},
   "outputs": [],
   "source": [
    "import pandas as pd\n",
    "import numpy as np\n",
    "from zipfile import ZipFile, Path\n",
    "from datetime import datetime\n",
    "import warnings\n",
    "warnings.filterwarnings(\"ignore\")\n",
    "import seaborn as sns\n",
    "import matplotlib.pyplot as plt\n",
    "sns.set(rc={'axes.facecolor':'white'}) #para dark mode no vscode"
   ]
  },
  {
   "cell_type": "code",
   "execution_count": null,
   "id": "900dff1d",
   "metadata": {},
   "outputs": [],
   "source": []
  },
  {
   "cell_type": "code",
   "execution_count": null,
   "id": "d1845ee5",
   "metadata": {},
   "outputs": [],
   "source": []
  },
  {
   "cell_type": "code",
   "execution_count": 3,
   "id": "66907c6c",
   "metadata": {},
   "outputs": [],
   "source": [
    "import seaborn as sns"
   ]
  },
  {
   "cell_type": "code",
   "execution_count": 4,
   "id": "fc60a418",
   "metadata": {},
   "outputs": [],
   "source": [
    "LIST_OF_FILES = ['olist_customers_dataset.csv',\n",
    "'olist_geolocation_dataset.csv',\n",
    "'olist_order_items_dataset.csv',\n",
    "'olist_order_payments_dataset.csv',\n",
    "'olist_order_reviews_dataset.csv',\n",
    "'olist_orders_dataset.csv',\n",
    "'olist_products_dataset.csv',\n",
    "'olist_sellers_dataset.csv',\n",
    "'product_category_name_translation.csv']"
   ]
  },
  {
   "cell_type": "code",
   "execution_count": 5,
   "id": "3f500c95",
   "metadata": {},
   "outputs": [],
   "source": [
    "# Each dataset is stored into a position, accessible by its name as key\n",
    "dict_dataset = {}\n",
    "\n",
    "# Read all files\n",
    "with ZipFile(\"archive.zip\") as myzip:\n",
    "    for file_name in LIST_OF_FILES:\n",
    "        with myzip.open(file_name) as file:\n",
    "            dict_dataset[file_name.split('.')[0]] = pd.read_csv(file, header=0, delimiter=\",\")"
   ]
  },
  {
   "cell_type": "code",
   "execution_count": 6,
   "id": "b24688b0",
   "metadata": {},
   "outputs": [
    {
     "data": {
      "text/plain": [
       "0              olist_customers_dataset\n",
       "1            olist_geolocation_dataset\n",
       "2            olist_order_items_dataset\n",
       "3         olist_order_payments_dataset\n",
       "4          olist_order_reviews_dataset\n",
       "5                 olist_orders_dataset\n",
       "6               olist_products_dataset\n",
       "7                olist_sellers_dataset\n",
       "8    product_category_name_translation\n",
       "dtype: object"
      ]
     },
     "execution_count": 6,
     "metadata": {},
     "output_type": "execute_result"
    }
   ],
   "source": [
    "pd.Series(dict_dataset.keys())"
   ]
  },
  {
   "cell_type": "markdown",
   "id": "110288a0",
   "metadata": {},
   "source": [
    "# FULL TABLE"
   ]
  },
  {
   "cell_type": "code",
   "execution_count": 7,
   "id": "11046739",
   "metadata": {},
   "outputs": [],
   "source": [
    "df = dict_dataset['olist_geolocation_dataset']"
   ]
  },
  {
   "cell_type": "code",
   "execution_count": 8,
   "id": "3446cc11",
   "metadata": {},
   "outputs": [
    {
     "name": "stdout",
     "output_type": "stream",
     "text": [
      "Wall time: 45.1 s\n"
     ]
    }
   ],
   "source": [
    "%%time\n",
    "df['LAT_LONG'] = df.apply(lambda row :  str(row['geolocation_lat']) + str(row['geolocation_lng']), axis=1)"
   ]
  },
  {
   "cell_type": "code",
   "execution_count": 9,
   "id": "3de89a2b",
   "metadata": {},
   "outputs": [],
   "source": [
    "df_lat_long_in_CEPs = df.groupby('geolocation_zip_code_prefix').apply(lambda group : group['LAT_LONG'].nunique())"
   ]
  },
  {
   "cell_type": "code",
   "execution_count": 10,
   "id": "4435b993",
   "metadata": {},
   "outputs": [],
   "source": [
    "df_lat_long_in_CEPs =  df_lat_long_in_CEPs.rename('diff_lat_long').reset_index()"
   ]
  },
  {
   "cell_type": "code",
   "execution_count": 11,
   "id": "19a3cfa9",
   "metadata": {},
   "outputs": [
    {
     "data": {
      "text/html": [
       "<div>\n",
       "<style scoped>\n",
       "    .dataframe tbody tr th:only-of-type {\n",
       "        vertical-align: middle;\n",
       "    }\n",
       "\n",
       "    .dataframe tbody tr th {\n",
       "        vertical-align: top;\n",
       "    }\n",
       "\n",
       "    .dataframe thead th {\n",
       "        text-align: right;\n",
       "    }\n",
       "</style>\n",
       "<table border=\"1\" class=\"dataframe\">\n",
       "  <thead>\n",
       "    <tr style=\"text-align: right;\">\n",
       "      <th></th>\n",
       "      <th>geolocation_zip_code_prefix</th>\n",
       "      <th>diff_lat_long</th>\n",
       "    </tr>\n",
       "  </thead>\n",
       "  <tbody>\n",
       "    <tr>\n",
       "      <th>9536</th>\n",
       "      <td>38400</td>\n",
       "      <td>746</td>\n",
       "    </tr>\n",
       "    <tr>\n",
       "      <th>4501</th>\n",
       "      <td>11680</td>\n",
       "      <td>727</td>\n",
       "    </tr>\n",
       "    <tr>\n",
       "      <th>8728</th>\n",
       "      <td>35500</td>\n",
       "      <td>726</td>\n",
       "    </tr>\n",
       "    <tr>\n",
       "      <th>4528</th>\n",
       "      <td>11740</td>\n",
       "      <td>666</td>\n",
       "    </tr>\n",
       "    <tr>\n",
       "      <th>9015</th>\n",
       "      <td>36400</td>\n",
       "      <td>627</td>\n",
       "    </tr>\n",
       "    <tr>\n",
       "      <th>9719</th>\n",
       "      <td>39400</td>\n",
       "      <td>620</td>\n",
       "    </tr>\n",
       "    <tr>\n",
       "      <th>8579</th>\n",
       "      <td>35162</td>\n",
       "      <td>611</td>\n",
       "    </tr>\n",
       "    <tr>\n",
       "      <th>9542</th>\n",
       "      <td>38408</td>\n",
       "      <td>600</td>\n",
       "    </tr>\n",
       "    <tr>\n",
       "      <th>9239</th>\n",
       "      <td>37200</td>\n",
       "      <td>595</td>\n",
       "    </tr>\n",
       "    <tr>\n",
       "      <th>8867</th>\n",
       "      <td>35900</td>\n",
       "      <td>589</td>\n",
       "    </tr>\n",
       "  </tbody>\n",
       "</table>\n",
       "</div>"
      ],
      "text/plain": [
       "      geolocation_zip_code_prefix  diff_lat_long\n",
       "9536                        38400            746\n",
       "4501                        11680            727\n",
       "8728                        35500            726\n",
       "4528                        11740            666\n",
       "9015                        36400            627\n",
       "9719                        39400            620\n",
       "8579                        35162            611\n",
       "9542                        38408            600\n",
       "9239                        37200            595\n",
       "8867                        35900            589"
      ]
     },
     "execution_count": 11,
     "metadata": {},
     "output_type": "execute_result"
    }
   ],
   "source": [
    "df_lat_long_in_CEPs.sort_values('diff_lat_long', ascending=False).head(10)"
   ]
  },
  {
   "cell_type": "code",
   "execution_count": 12,
   "id": "bb5f0a6c",
   "metadata": {},
   "outputs": [
    {
     "data": {
      "text/html": [
       "<div>\n",
       "<style scoped>\n",
       "    .dataframe tbody tr th:only-of-type {\n",
       "        vertical-align: middle;\n",
       "    }\n",
       "\n",
       "    .dataframe tbody tr th {\n",
       "        vertical-align: top;\n",
       "    }\n",
       "\n",
       "    .dataframe thead th {\n",
       "        text-align: right;\n",
       "    }\n",
       "</style>\n",
       "<table border=\"1\" class=\"dataframe\">\n",
       "  <thead>\n",
       "    <tr style=\"text-align: right;\">\n",
       "      <th></th>\n",
       "      <th>geolocation_zip_code_prefix</th>\n",
       "      <th>geolocation_lat</th>\n",
       "      <th>geolocation_lng</th>\n",
       "      <th>geolocation_city</th>\n",
       "      <th>geolocation_state</th>\n",
       "      <th>LAT_LONG</th>\n",
       "    </tr>\n",
       "  </thead>\n",
       "  <tbody>\n",
       "    <tr>\n",
       "      <th>645450</th>\n",
       "      <td>38400</td>\n",
       "      <td>-18.915960</td>\n",
       "      <td>-48.278974</td>\n",
       "      <td>uberlandia</td>\n",
       "      <td>MG</td>\n",
       "      <td>-18.91595976602804-48.278974174995646</td>\n",
       "    </tr>\n",
       "    <tr>\n",
       "      <th>645456</th>\n",
       "      <td>38400</td>\n",
       "      <td>-18.900442</td>\n",
       "      <td>-48.260759</td>\n",
       "      <td>uberlandia</td>\n",
       "      <td>MG</td>\n",
       "      <td>-18.900442445467096-48.26075855813959</td>\n",
       "    </tr>\n",
       "    <tr>\n",
       "      <th>645460</th>\n",
       "      <td>38400</td>\n",
       "      <td>-18.913015</td>\n",
       "      <td>-48.262132</td>\n",
       "      <td>uberlandia</td>\n",
       "      <td>MG</td>\n",
       "      <td>-18.913015152374623-48.26213189982101</td>\n",
       "    </tr>\n",
       "    <tr>\n",
       "      <th>645461</th>\n",
       "      <td>38400</td>\n",
       "      <td>-18.922381</td>\n",
       "      <td>-48.282111</td>\n",
       "      <td>uberlandia</td>\n",
       "      <td>MG</td>\n",
       "      <td>-18.92238123980033-48.28211103081535</td>\n",
       "    </tr>\n",
       "    <tr>\n",
       "      <th>645471</th>\n",
       "      <td>38400</td>\n",
       "      <td>-18.922160</td>\n",
       "      <td>-48.271125</td>\n",
       "      <td>uberlandia</td>\n",
       "      <td>MG</td>\n",
       "      <td>-18.922160210658436-48.27112484984707</td>\n",
       "    </tr>\n",
       "  </tbody>\n",
       "</table>\n",
       "</div>"
      ],
      "text/plain": [
       "        geolocation_zip_code_prefix  geolocation_lat  geolocation_lng  \\\n",
       "645450                        38400       -18.915960       -48.278974   \n",
       "645456                        38400       -18.900442       -48.260759   \n",
       "645460                        38400       -18.913015       -48.262132   \n",
       "645461                        38400       -18.922381       -48.282111   \n",
       "645471                        38400       -18.922160       -48.271125   \n",
       "\n",
       "       geolocation_city geolocation_state  \\\n",
       "645450       uberlandia                MG   \n",
       "645456       uberlandia                MG   \n",
       "645460       uberlandia                MG   \n",
       "645461       uberlandia                MG   \n",
       "645471       uberlandia                MG   \n",
       "\n",
       "                                     LAT_LONG  \n",
       "645450  -18.91595976602804-48.278974174995646  \n",
       "645456  -18.900442445467096-48.26075855813959  \n",
       "645460  -18.913015152374623-48.26213189982101  \n",
       "645461   -18.92238123980033-48.28211103081535  \n",
       "645471  -18.922160210658436-48.27112484984707  "
      ]
     },
     "execution_count": 12,
     "metadata": {},
     "output_type": "execute_result"
    }
   ],
   "source": [
    "df[df['geolocation_zip_code_prefix'] == 38400].head(5)"
   ]
  },
  {
   "cell_type": "code",
   "execution_count": 13,
   "id": "11146739",
   "metadata": {},
   "outputs": [],
   "source": [
    "LIST = []\n",
    "for i in dict_dataset:\n",
    "    LIST.append((i,dict_dataset[i].shape[0]))"
   ]
  },
  {
   "cell_type": "code",
   "execution_count": 14,
   "id": "8525abb3",
   "metadata": {},
   "outputs": [
    {
     "data": {
      "text/html": [
       "<div>\n",
       "<style scoped>\n",
       "    .dataframe tbody tr th:only-of-type {\n",
       "        vertical-align: middle;\n",
       "    }\n",
       "\n",
       "    .dataframe tbody tr th {\n",
       "        vertical-align: top;\n",
       "    }\n",
       "\n",
       "    .dataframe thead th {\n",
       "        text-align: right;\n",
       "    }\n",
       "</style>\n",
       "<table border=\"1\" class=\"dataframe\">\n",
       "  <thead>\n",
       "    <tr style=\"text-align: right;\">\n",
       "      <th></th>\n",
       "      <th>table</th>\n",
       "      <th>size</th>\n",
       "    </tr>\n",
       "  </thead>\n",
       "  <tbody>\n",
       "    <tr>\n",
       "      <th>1</th>\n",
       "      <td>olist_geolocation_dataset</td>\n",
       "      <td>1000163</td>\n",
       "    </tr>\n",
       "    <tr>\n",
       "      <th>2</th>\n",
       "      <td>olist_order_items_dataset</td>\n",
       "      <td>112650</td>\n",
       "    </tr>\n",
       "    <tr>\n",
       "      <th>3</th>\n",
       "      <td>olist_order_payments_dataset</td>\n",
       "      <td>103886</td>\n",
       "    </tr>\n",
       "    <tr>\n",
       "      <th>0</th>\n",
       "      <td>olist_customers_dataset</td>\n",
       "      <td>99441</td>\n",
       "    </tr>\n",
       "    <tr>\n",
       "      <th>5</th>\n",
       "      <td>olist_orders_dataset</td>\n",
       "      <td>99441</td>\n",
       "    </tr>\n",
       "    <tr>\n",
       "      <th>4</th>\n",
       "      <td>olist_order_reviews_dataset</td>\n",
       "      <td>99224</td>\n",
       "    </tr>\n",
       "    <tr>\n",
       "      <th>6</th>\n",
       "      <td>olist_products_dataset</td>\n",
       "      <td>32951</td>\n",
       "    </tr>\n",
       "    <tr>\n",
       "      <th>7</th>\n",
       "      <td>olist_sellers_dataset</td>\n",
       "      <td>3095</td>\n",
       "    </tr>\n",
       "    <tr>\n",
       "      <th>8</th>\n",
       "      <td>product_category_name_translation</td>\n",
       "      <td>71</td>\n",
       "    </tr>\n",
       "  </tbody>\n",
       "</table>\n",
       "</div>"
      ],
      "text/plain": [
       "                               table     size\n",
       "1          olist_geolocation_dataset  1000163\n",
       "2          olist_order_items_dataset   112650\n",
       "3       olist_order_payments_dataset   103886\n",
       "0            olist_customers_dataset    99441\n",
       "5               olist_orders_dataset    99441\n",
       "4        olist_order_reviews_dataset    99224\n",
       "6             olist_products_dataset    32951\n",
       "7              olist_sellers_dataset     3095\n",
       "8  product_category_name_translation       71"
      ]
     },
     "execution_count": 14,
     "metadata": {},
     "output_type": "execute_result"
    }
   ],
   "source": [
    "pd.DataFrame(LIST, columns=['table', 'size']).sort_values('size', ascending=False)"
   ]
  },
  {
   "cell_type": "code",
   "execution_count": 15,
   "id": "d61b5056",
   "metadata": {},
   "outputs": [],
   "source": [
    "# olist_order_items_dataset"
   ]
  },
  {
   "cell_type": "code",
   "execution_count": 16,
   "id": "7c217ce6",
   "metadata": {},
   "outputs": [],
   "source": [
    "df_geolocation_dataset = dict_dataset['olist_geolocation_dataset']\n",
    "df_orders_dataset = dict_dataset['olist_orders_dataset']\n",
    "df_order_items_dataset = dict_dataset['olist_order_items_dataset']\n",
    "df_order_payments_dataset = dict_dataset['olist_order_payments_dataset']\n",
    "df_customers_dataset = dict_dataset['olist_customers_dataset']\n",
    "df_order_reviews_dataset = dict_dataset['olist_order_reviews_dataset']\n",
    "df_products_dataset = dict_dataset['olist_products_dataset']\n",
    "df_sellers_dataset = dict_dataset['olist_sellers_dataset']\n",
    "df_product_category_name_translation = dict_dataset['product_category_name_translation']"
   ]
  },
  {
   "cell_type": "code",
   "execution_count": 17,
   "id": "da095511",
   "metadata": {},
   "outputs": [],
   "source": [
    "# <!-- ![backupPreview.png](attachment:backupPreview.png) -->"
   ]
  },
  {
   "cell_type": "markdown",
   "id": "76bb13be",
   "metadata": {},
   "source": [
    "## A: order_items_dataset + products_dataset"
   ]
  },
  {
   "cell_type": "code",
   "execution_count": 18,
   "id": "621ba6ee",
   "metadata": {},
   "outputs": [],
   "source": [
    "A = df_order_items_dataset.merge(df_products_dataset, on='product_id', how='left')"
   ]
  },
  {
   "cell_type": "code",
   "execution_count": 19,
   "id": "0a02a33c",
   "metadata": {},
   "outputs": [
    {
     "data": {
      "text/html": [
       "<div>\n",
       "<style scoped>\n",
       "    .dataframe tbody tr th:only-of-type {\n",
       "        vertical-align: middle;\n",
       "    }\n",
       "\n",
       "    .dataframe tbody tr th {\n",
       "        vertical-align: top;\n",
       "    }\n",
       "\n",
       "    .dataframe thead th {\n",
       "        text-align: right;\n",
       "    }\n",
       "</style>\n",
       "<table border=\"1\" class=\"dataframe\">\n",
       "  <thead>\n",
       "    <tr style=\"text-align: right;\">\n",
       "      <th></th>\n",
       "      <th>order_id</th>\n",
       "      <th>order_item_id</th>\n",
       "      <th>product_id</th>\n",
       "      <th>seller_id</th>\n",
       "      <th>shipping_limit_date</th>\n",
       "      <th>price</th>\n",
       "      <th>freight_value</th>\n",
       "      <th>product_category_name</th>\n",
       "      <th>product_name_lenght</th>\n",
       "      <th>product_description_lenght</th>\n",
       "      <th>product_photos_qty</th>\n",
       "      <th>product_weight_g</th>\n",
       "      <th>product_length_cm</th>\n",
       "      <th>product_height_cm</th>\n",
       "      <th>product_width_cm</th>\n",
       "    </tr>\n",
       "  </thead>\n",
       "  <tbody>\n",
       "    <tr>\n",
       "      <th>0</th>\n",
       "      <td>00010242fe8c5a6d1ba2dd792cb16214</td>\n",
       "      <td>1</td>\n",
       "      <td>4244733e06e7ecb4970a6e2683c13e61</td>\n",
       "      <td>48436dade18ac8b2bce089ec2a041202</td>\n",
       "      <td>2017-09-19 09:45:35</td>\n",
       "      <td>58.9</td>\n",
       "      <td>13.29</td>\n",
       "      <td>cool_stuff</td>\n",
       "      <td>58.0</td>\n",
       "      <td>598.0</td>\n",
       "      <td>4.0</td>\n",
       "      <td>650.0</td>\n",
       "      <td>28.0</td>\n",
       "      <td>9.0</td>\n",
       "      <td>14.0</td>\n",
       "    </tr>\n",
       "    <tr>\n",
       "      <th>1</th>\n",
       "      <td>00018f77f2f0320c557190d7a144bdd3</td>\n",
       "      <td>1</td>\n",
       "      <td>e5f2d52b802189ee658865ca93d83a8f</td>\n",
       "      <td>dd7ddc04e1b6c2c614352b383efe2d36</td>\n",
       "      <td>2017-05-03 11:05:13</td>\n",
       "      <td>239.9</td>\n",
       "      <td>19.93</td>\n",
       "      <td>pet_shop</td>\n",
       "      <td>56.0</td>\n",
       "      <td>239.0</td>\n",
       "      <td>2.0</td>\n",
       "      <td>30000.0</td>\n",
       "      <td>50.0</td>\n",
       "      <td>30.0</td>\n",
       "      <td>40.0</td>\n",
       "    </tr>\n",
       "  </tbody>\n",
       "</table>\n",
       "</div>"
      ],
      "text/plain": [
       "                           order_id  order_item_id  \\\n",
       "0  00010242fe8c5a6d1ba2dd792cb16214              1   \n",
       "1  00018f77f2f0320c557190d7a144bdd3              1   \n",
       "\n",
       "                         product_id                         seller_id  \\\n",
       "0  4244733e06e7ecb4970a6e2683c13e61  48436dade18ac8b2bce089ec2a041202   \n",
       "1  e5f2d52b802189ee658865ca93d83a8f  dd7ddc04e1b6c2c614352b383efe2d36   \n",
       "\n",
       "   shipping_limit_date  price  freight_value product_category_name  \\\n",
       "0  2017-09-19 09:45:35   58.9          13.29            cool_stuff   \n",
       "1  2017-05-03 11:05:13  239.9          19.93              pet_shop   \n",
       "\n",
       "   product_name_lenght  product_description_lenght  product_photos_qty  \\\n",
       "0                 58.0                       598.0                 4.0   \n",
       "1                 56.0                       239.0                 2.0   \n",
       "\n",
       "   product_weight_g  product_length_cm  product_height_cm  product_width_cm  \n",
       "0             650.0               28.0                9.0              14.0  \n",
       "1           30000.0               50.0               30.0              40.0  "
      ]
     },
     "execution_count": 19,
     "metadata": {},
     "output_type": "execute_result"
    }
   ],
   "source": [
    "A.head(2)"
   ]
  },
  {
   "cell_type": "markdown",
   "id": "bee7e6d8",
   "metadata": {},
   "source": [
    "## B: sellers_dataset + geolocation_dataset"
   ]
  },
  {
   "cell_type": "code",
   "execution_count": 20,
   "id": "817263cc",
   "metadata": {},
   "outputs": [],
   "source": [
    "B = df_sellers_dataset.merge(df_geolocation_dataset.drop_duplicates('geolocation_zip_code_prefix'), \\\n",
    "                             how='left', \\\n",
    "                             left_on=['seller_zip_code_prefix'], \\\n",
    "                             right_on=['geolocation_zip_code_prefix'])"
   ]
  },
  {
   "cell_type": "code",
   "execution_count": 21,
   "id": "855fc560",
   "metadata": {},
   "outputs": [],
   "source": [
    "# List the columns in which we want to add a sufix\n",
    "columns_to_add_sufix = ['geolocation_zip_code_prefix', 'geolocation_lat', 'geolocation_lng', 'geolocation_city', 'geolocation_state', 'LAT_LONG']\n",
    "\n",
    "# Create a function to do that to the given columns\n",
    "func_modifier = lambda col : str(col + \"_seller\")\n",
    "\n",
    "# Apply the function to the desired columns\n",
    "new_columns_names = list(map(lambda x : func_modifier(x) if x in columns_to_add_sufix else x, B))\n",
    "\n",
    "B.columns = new_columns_names"
   ]
  },
  {
   "cell_type": "code",
   "execution_count": null,
   "id": "f615affd",
   "metadata": {},
   "outputs": [],
   "source": []
  },
  {
   "cell_type": "code",
   "execution_count": null,
   "id": "0aae1b82",
   "metadata": {},
   "outputs": [],
   "source": []
  },
  {
   "cell_type": "markdown",
   "id": "e1e55d84",
   "metadata": {},
   "source": [
    "## C: A + B"
   ]
  },
  {
   "cell_type": "code",
   "execution_count": 22,
   "id": "6d481ba4",
   "metadata": {},
   "outputs": [],
   "source": [
    "C = A.merge(B, how='left', on='seller_id')"
   ]
  },
  {
   "cell_type": "code",
   "execution_count": 23,
   "id": "fcc4eddb",
   "metadata": {},
   "outputs": [
    {
     "data": {
      "text/html": [
       "<div>\n",
       "<style scoped>\n",
       "    .dataframe tbody tr th:only-of-type {\n",
       "        vertical-align: middle;\n",
       "    }\n",
       "\n",
       "    .dataframe tbody tr th {\n",
       "        vertical-align: top;\n",
       "    }\n",
       "\n",
       "    .dataframe thead th {\n",
       "        text-align: right;\n",
       "    }\n",
       "</style>\n",
       "<table border=\"1\" class=\"dataframe\">\n",
       "  <thead>\n",
       "    <tr style=\"text-align: right;\">\n",
       "      <th></th>\n",
       "      <th>order_id</th>\n",
       "      <th>order_item_id</th>\n",
       "      <th>product_id</th>\n",
       "      <th>seller_id</th>\n",
       "      <th>shipping_limit_date</th>\n",
       "      <th>price</th>\n",
       "      <th>freight_value</th>\n",
       "      <th>product_category_name</th>\n",
       "      <th>product_name_lenght</th>\n",
       "      <th>product_description_lenght</th>\n",
       "      <th>...</th>\n",
       "      <th>product_width_cm</th>\n",
       "      <th>seller_zip_code_prefix</th>\n",
       "      <th>seller_city</th>\n",
       "      <th>seller_state</th>\n",
       "      <th>geolocation_zip_code_prefix_seller</th>\n",
       "      <th>geolocation_lat_seller</th>\n",
       "      <th>geolocation_lng_seller</th>\n",
       "      <th>geolocation_city_seller</th>\n",
       "      <th>geolocation_state_seller</th>\n",
       "      <th>LAT_LONG_seller</th>\n",
       "    </tr>\n",
       "  </thead>\n",
       "  <tbody>\n",
       "    <tr>\n",
       "      <th>0</th>\n",
       "      <td>00010242fe8c5a6d1ba2dd792cb16214</td>\n",
       "      <td>1</td>\n",
       "      <td>4244733e06e7ecb4970a6e2683c13e61</td>\n",
       "      <td>48436dade18ac8b2bce089ec2a041202</td>\n",
       "      <td>2017-09-19 09:45:35</td>\n",
       "      <td>58.9</td>\n",
       "      <td>13.29</td>\n",
       "      <td>cool_stuff</td>\n",
       "      <td>58.0</td>\n",
       "      <td>598.0</td>\n",
       "      <td>...</td>\n",
       "      <td>14.0</td>\n",
       "      <td>27277</td>\n",
       "      <td>volta redonda</td>\n",
       "      <td>SP</td>\n",
       "      <td>27277.0</td>\n",
       "      <td>-22.498183</td>\n",
       "      <td>-44.123614</td>\n",
       "      <td>volta redonda</td>\n",
       "      <td>RJ</td>\n",
       "      <td>-22.498182754371285-44.12361371579433</td>\n",
       "    </tr>\n",
       "    <tr>\n",
       "      <th>1</th>\n",
       "      <td>00018f77f2f0320c557190d7a144bdd3</td>\n",
       "      <td>1</td>\n",
       "      <td>e5f2d52b802189ee658865ca93d83a8f</td>\n",
       "      <td>dd7ddc04e1b6c2c614352b383efe2d36</td>\n",
       "      <td>2017-05-03 11:05:13</td>\n",
       "      <td>239.9</td>\n",
       "      <td>19.93</td>\n",
       "      <td>pet_shop</td>\n",
       "      <td>56.0</td>\n",
       "      <td>239.0</td>\n",
       "      <td>...</td>\n",
       "      <td>40.0</td>\n",
       "      <td>3471</td>\n",
       "      <td>sao paulo</td>\n",
       "      <td>SP</td>\n",
       "      <td>3471.0</td>\n",
       "      <td>-23.566258</td>\n",
       "      <td>-46.518417</td>\n",
       "      <td>sao paulo</td>\n",
       "      <td>SP</td>\n",
       "      <td>-23.56625832001269-46.51841724632121</td>\n",
       "    </tr>\n",
       "  </tbody>\n",
       "</table>\n",
       "<p>2 rows × 24 columns</p>\n",
       "</div>"
      ],
      "text/plain": [
       "                           order_id  order_item_id  \\\n",
       "0  00010242fe8c5a6d1ba2dd792cb16214              1   \n",
       "1  00018f77f2f0320c557190d7a144bdd3              1   \n",
       "\n",
       "                         product_id                         seller_id  \\\n",
       "0  4244733e06e7ecb4970a6e2683c13e61  48436dade18ac8b2bce089ec2a041202   \n",
       "1  e5f2d52b802189ee658865ca93d83a8f  dd7ddc04e1b6c2c614352b383efe2d36   \n",
       "\n",
       "   shipping_limit_date  price  freight_value product_category_name  \\\n",
       "0  2017-09-19 09:45:35   58.9          13.29            cool_stuff   \n",
       "1  2017-05-03 11:05:13  239.9          19.93              pet_shop   \n",
       "\n",
       "   product_name_lenght  product_description_lenght  ...  product_width_cm  \\\n",
       "0                 58.0                       598.0  ...              14.0   \n",
       "1                 56.0                       239.0  ...              40.0   \n",
       "\n",
       "   seller_zip_code_prefix    seller_city  seller_state  \\\n",
       "0                   27277  volta redonda            SP   \n",
       "1                    3471      sao paulo            SP   \n",
       "\n",
       "   geolocation_zip_code_prefix_seller  geolocation_lat_seller  \\\n",
       "0                             27277.0              -22.498183   \n",
       "1                              3471.0              -23.566258   \n",
       "\n",
       "  geolocation_lng_seller geolocation_city_seller  geolocation_state_seller  \\\n",
       "0             -44.123614           volta redonda                        RJ   \n",
       "1             -46.518417               sao paulo                        SP   \n",
       "\n",
       "                         LAT_LONG_seller  \n",
       "0  -22.498182754371285-44.12361371579433  \n",
       "1   -23.56625832001269-46.51841724632121  \n",
       "\n",
       "[2 rows x 24 columns]"
      ]
     },
     "execution_count": 23,
     "metadata": {},
     "output_type": "execute_result"
    }
   ],
   "source": [
    "C.head(2)"
   ]
  },
  {
   "cell_type": "markdown",
   "id": "d3531971",
   "metadata": {},
   "source": [
    "## D: customer_dataset + geolocation_dataset"
   ]
  },
  {
   "cell_type": "code",
   "execution_count": 24,
   "id": "23f1f7d4",
   "metadata": {},
   "outputs": [],
   "source": [
    "D = df_customers_dataset.merge(df_geolocation_dataset.drop_duplicates('geolocation_zip_code_prefix'), how='left', left_on=['customer_zip_code_prefix'], right_on=['geolocation_zip_code_prefix'])"
   ]
  },
  {
   "cell_type": "code",
   "execution_count": 25,
   "id": "581a481c",
   "metadata": {},
   "outputs": [],
   "source": [
    "# List the columns in which we want to add a sufix\n",
    "columns_to_add_sufix = ['geolocation_zip_code_prefix', 'geolocation_lat', 'geolocation_lng', 'geolocation_city', 'geolocation_state']\n",
    "\n",
    "# Create a function to do that to the given columns\n",
    "func_modifier = lambda col : str(col + \"_customer\")\n",
    "\n",
    "# Apply the function to the desired columns\n",
    "new_columns_names = list(map(lambda x : func_modifier(x) if x in columns_to_add_sufix else x, D))\n",
    "\n",
    "D.columns = new_columns_names"
   ]
  },
  {
   "cell_type": "code",
   "execution_count": null,
   "id": "6daf39a2",
   "metadata": {},
   "outputs": [],
   "source": []
  },
  {
   "cell_type": "markdown",
   "id": "b7222772",
   "metadata": {},
   "source": [
    "## E: All left tables"
   ]
  },
  {
   "cell_type": "code",
   "execution_count": 26,
   "id": "6beb00fb",
   "metadata": {},
   "outputs": [],
   "source": [
    "E = df_orders_dataset.merge(df_order_payments_dataset, how='left', on='order_id') \\\n",
    "                 .merge(df_order_reviews_dataset, how='left', on='order_id') \\\n",
    "                 .merge(D, how='left', on='customer_id')"
   ]
  },
  {
   "cell_type": "code",
   "execution_count": null,
   "id": "838d3fab",
   "metadata": {},
   "outputs": [],
   "source": []
  },
  {
   "cell_type": "markdown",
   "id": "5c7e45ad",
   "metadata": {},
   "source": [
    "## FULL TABLE"
   ]
  },
  {
   "cell_type": "code",
   "execution_count": 27,
   "id": "560dc778",
   "metadata": {},
   "outputs": [],
   "source": [
    "df_full_table = E.merge(C, how='left', on='order_id')"
   ]
  },
  {
   "cell_type": "markdown",
   "id": "8a210ff0",
   "metadata": {},
   "source": [
    "### Coverting to timestamp"
   ]
  },
  {
   "cell_type": "code",
   "execution_count": 28,
   "id": "5cdfaf4a",
   "metadata": {},
   "outputs": [],
   "source": [
    "orders_date_columns = ['order_purchase_timestamp', 'order_approved_at', 'order_delivered_carrier_date', 'order_delivered_customer_date', 'order_estimated_delivery_date']\n",
    "\n",
    "for date_col in orders_date_columns:\n",
    "    df_full_table[date_col] = pd.to_datetime(df_full_table[date_col])"
   ]
  },
  {
   "cell_type": "code",
   "execution_count": 29,
   "id": "6df48a72",
   "metadata": {},
   "outputs": [
    {
     "name": "stdout",
     "output_type": "stream",
     "text": [
      "2.0043678382716137 K.M\n"
     ]
    }
   ],
   "source": [
    "# Python 3 program to calculate Distance Between Two Points on Earth\n",
    "from math import radians, cos, sin, asin, sqrt\n",
    "def distance(lat1, lat2, lon1, lon2):\n",
    "     \n",
    "    # The math module contains a function named\n",
    "    # radians which converts from degrees to radians.\n",
    "    lon1 = radians(lon1)\n",
    "    lon2 = radians(lon2)\n",
    "    lat1 = radians(lat1)\n",
    "    lat2 = radians(lat2)\n",
    "      \n",
    "    # Haversine formula\n",
    "    dlon = lon2 - lon1\n",
    "    dlat = lat2 - lat1\n",
    "    a = sin(dlat / 2)**2 + cos(lat1) * cos(lat2) * sin(dlon / 2)**2\n",
    " \n",
    "    c = 2 * asin(sqrt(a))\n",
    "    \n",
    "    # Radius of earth in kilometers. Use 3956 for miles\n",
    "    r = 6371\n",
    "      \n",
    "    # calculate the result\n",
    "    return(c * r)\n",
    "     \n",
    "     \n",
    "# driver code\n",
    "lat1 = 53.32055555555556\n",
    "lat2 = 53.31861111111111\n",
    "lon1 = -1.7297222222222221\n",
    "lon2 =  -1.6997222222222223\n",
    "print(distance(lat1, lat2, lon1, lon2), \"K.M\")"
   ]
  },
  {
   "cell_type": "code",
   "execution_count": 30,
   "id": "9028fe59",
   "metadata": {},
   "outputs": [
    {
     "data": {
      "text/html": [
       "<div>\n",
       "<style scoped>\n",
       "    .dataframe tbody tr th:only-of-type {\n",
       "        vertical-align: middle;\n",
       "    }\n",
       "\n",
       "    .dataframe tbody tr th {\n",
       "        vertical-align: top;\n",
       "    }\n",
       "\n",
       "    .dataframe thead th {\n",
       "        text-align: right;\n",
       "    }\n",
       "</style>\n",
       "<table border=\"1\" class=\"dataframe\">\n",
       "  <thead>\n",
       "    <tr style=\"text-align: right;\">\n",
       "      <th></th>\n",
       "      <th>seller_city</th>\n",
       "      <th>customer_city</th>\n",
       "      <th>seller_id</th>\n",
       "      <th>customer_id</th>\n",
       "      <th>geolocation_lat_customer</th>\n",
       "      <th>geolocation_lng_customer</th>\n",
       "      <th>geolocation_lat_seller</th>\n",
       "      <th>geolocation_lng_seller</th>\n",
       "    </tr>\n",
       "  </thead>\n",
       "  <tbody>\n",
       "    <tr>\n",
       "      <th>0</th>\n",
       "      <td>maua</td>\n",
       "      <td>sao paulo</td>\n",
       "      <td>3504c0cb71d7fa48d967e0e4c94d59d9</td>\n",
       "      <td>9ef432eb6251297304e76186b10a928d</td>\n",
       "      <td>-23.574809</td>\n",
       "      <td>-46.587471</td>\n",
       "      <td>-23.680114</td>\n",
       "      <td>-46.452454</td>\n",
       "    </tr>\n",
       "    <tr>\n",
       "      <th>1</th>\n",
       "      <td>maua</td>\n",
       "      <td>sao paulo</td>\n",
       "      <td>3504c0cb71d7fa48d967e0e4c94d59d9</td>\n",
       "      <td>9ef432eb6251297304e76186b10a928d</td>\n",
       "      <td>-23.574809</td>\n",
       "      <td>-46.587471</td>\n",
       "      <td>-23.680114</td>\n",
       "      <td>-46.452454</td>\n",
       "    </tr>\n",
       "    <tr>\n",
       "      <th>2</th>\n",
       "      <td>maua</td>\n",
       "      <td>sao paulo</td>\n",
       "      <td>3504c0cb71d7fa48d967e0e4c94d59d9</td>\n",
       "      <td>9ef432eb6251297304e76186b10a928d</td>\n",
       "      <td>-23.574809</td>\n",
       "      <td>-46.587471</td>\n",
       "      <td>-23.680114</td>\n",
       "      <td>-46.452454</td>\n",
       "    </tr>\n",
       "    <tr>\n",
       "      <th>3</th>\n",
       "      <td>belo horizonte</td>\n",
       "      <td>barreiras</td>\n",
       "      <td>289cdb325fb7e7f891c38608bf9e0962</td>\n",
       "      <td>b0830fb4747a6c6d20dea0b8c802d7ef</td>\n",
       "      <td>-12.169860</td>\n",
       "      <td>-44.988369</td>\n",
       "      <td>-19.810119</td>\n",
       "      <td>-43.984727</td>\n",
       "    </tr>\n",
       "    <tr>\n",
       "      <th>4</th>\n",
       "      <td>guariba</td>\n",
       "      <td>vianopolis</td>\n",
       "      <td>4869f7a5dfa277a7dca6462dcf3b52b2</td>\n",
       "      <td>41ce2a54c0b03bf3443c3d931a367089</td>\n",
       "      <td>-16.746337</td>\n",
       "      <td>-48.514624</td>\n",
       "      <td>-21.362358</td>\n",
       "      <td>-48.232976</td>\n",
       "    </tr>\n",
       "    <tr>\n",
       "      <th>...</th>\n",
       "      <td>...</td>\n",
       "      <td>...</td>\n",
       "      <td>...</td>\n",
       "      <td>...</td>\n",
       "      <td>...</td>\n",
       "      <td>...</td>\n",
       "      <td>...</td>\n",
       "      <td>...</td>\n",
       "    </tr>\n",
       "    <tr>\n",
       "      <th>119138</th>\n",
       "      <td>tupa</td>\n",
       "      <td>praia grande</td>\n",
       "      <td>1f9ab4708f3056ede07124aad39a2554</td>\n",
       "      <td>1fca14ff2861355f6e5f14306ff977a7</td>\n",
       "      <td>-24.001467</td>\n",
       "      <td>-46.446355</td>\n",
       "      <td>-21.935321</td>\n",
       "      <td>-50.497562</td>\n",
       "    </tr>\n",
       "    <tr>\n",
       "      <th>119139</th>\n",
       "      <td>sao paulo</td>\n",
       "      <td>nova vicosa</td>\n",
       "      <td>d50d79cb34e38265a8649c383dcffd48</td>\n",
       "      <td>1aa71eb042121263aafbe80c1b562c9c</td>\n",
       "      <td>-17.891522</td>\n",
       "      <td>-39.370942</td>\n",
       "      <td>-23.551013</td>\n",
       "      <td>-46.448489</td>\n",
       "    </tr>\n",
       "    <tr>\n",
       "      <th>119140</th>\n",
       "      <td>ilicinea</td>\n",
       "      <td>japuiba</td>\n",
       "      <td>a1043bafd471dff536d0c462352beb48</td>\n",
       "      <td>b331b74b18dc79bcdf6532d51e1637c1</td>\n",
       "      <td>-22.555985</td>\n",
       "      <td>-42.690761</td>\n",
       "      <td>-20.944706</td>\n",
       "      <td>-45.827098</td>\n",
       "    </tr>\n",
       "    <tr>\n",
       "      <th>119141</th>\n",
       "      <td>ilicinea</td>\n",
       "      <td>japuiba</td>\n",
       "      <td>a1043bafd471dff536d0c462352beb48</td>\n",
       "      <td>b331b74b18dc79bcdf6532d51e1637c1</td>\n",
       "      <td>-22.555985</td>\n",
       "      <td>-42.690761</td>\n",
       "      <td>-20.944706</td>\n",
       "      <td>-45.827098</td>\n",
       "    </tr>\n",
       "    <tr>\n",
       "      <th>119142</th>\n",
       "      <td>franca</td>\n",
       "      <td>lapa</td>\n",
       "      <td>ececbfcff9804a2d6b40f589df8eef2b</td>\n",
       "      <td>edb027a75a1449115f6b43211ae02a24</td>\n",
       "      <td>-25.775722</td>\n",
       "      <td>-49.723981</td>\n",
       "      <td>-20.502342</td>\n",
       "      <td>-47.421590</td>\n",
       "    </tr>\n",
       "  </tbody>\n",
       "</table>\n",
       "<p>119143 rows × 8 columns</p>\n",
       "</div>"
      ],
      "text/plain": [
       "           seller_city customer_city                         seller_id  \\\n",
       "0                 maua     sao paulo  3504c0cb71d7fa48d967e0e4c94d59d9   \n",
       "1                 maua     sao paulo  3504c0cb71d7fa48d967e0e4c94d59d9   \n",
       "2                 maua     sao paulo  3504c0cb71d7fa48d967e0e4c94d59d9   \n",
       "3       belo horizonte     barreiras  289cdb325fb7e7f891c38608bf9e0962   \n",
       "4              guariba    vianopolis  4869f7a5dfa277a7dca6462dcf3b52b2   \n",
       "...                ...           ...                               ...   \n",
       "119138            tupa  praia grande  1f9ab4708f3056ede07124aad39a2554   \n",
       "119139       sao paulo   nova vicosa  d50d79cb34e38265a8649c383dcffd48   \n",
       "119140        ilicinea       japuiba  a1043bafd471dff536d0c462352beb48   \n",
       "119141        ilicinea       japuiba  a1043bafd471dff536d0c462352beb48   \n",
       "119142          franca          lapa  ececbfcff9804a2d6b40f589df8eef2b   \n",
       "\n",
       "                             customer_id  geolocation_lat_customer  \\\n",
       "0       9ef432eb6251297304e76186b10a928d                -23.574809   \n",
       "1       9ef432eb6251297304e76186b10a928d                -23.574809   \n",
       "2       9ef432eb6251297304e76186b10a928d                -23.574809   \n",
       "3       b0830fb4747a6c6d20dea0b8c802d7ef                -12.169860   \n",
       "4       41ce2a54c0b03bf3443c3d931a367089                -16.746337   \n",
       "...                                  ...                       ...   \n",
       "119138  1fca14ff2861355f6e5f14306ff977a7                -24.001467   \n",
       "119139  1aa71eb042121263aafbe80c1b562c9c                -17.891522   \n",
       "119140  b331b74b18dc79bcdf6532d51e1637c1                -22.555985   \n",
       "119141  b331b74b18dc79bcdf6532d51e1637c1                -22.555985   \n",
       "119142  edb027a75a1449115f6b43211ae02a24                -25.775722   \n",
       "\n",
       "        geolocation_lng_customer  geolocation_lat_seller  \\\n",
       "0                     -46.587471              -23.680114   \n",
       "1                     -46.587471              -23.680114   \n",
       "2                     -46.587471              -23.680114   \n",
       "3                     -44.988369              -19.810119   \n",
       "4                     -48.514624              -21.362358   \n",
       "...                          ...                     ...   \n",
       "119138                -46.446355              -21.935321   \n",
       "119139                -39.370942              -23.551013   \n",
       "119140                -42.690761              -20.944706   \n",
       "119141                -42.690761              -20.944706   \n",
       "119142                -49.723981              -20.502342   \n",
       "\n",
       "        geolocation_lng_seller  \n",
       "0                   -46.452454  \n",
       "1                   -46.452454  \n",
       "2                   -46.452454  \n",
       "3                   -43.984727  \n",
       "4                   -48.232976  \n",
       "...                        ...  \n",
       "119138              -50.497562  \n",
       "119139              -46.448489  \n",
       "119140              -45.827098  \n",
       "119141              -45.827098  \n",
       "119142              -47.421590  \n",
       "\n",
       "[119143 rows x 8 columns]"
      ]
     },
     "execution_count": 30,
     "metadata": {},
     "output_type": "execute_result"
    }
   ],
   "source": [
    "coords_cols = [col for col in df_full_table.columns if (('geolocation_lat' in col) or ('geolocation_lng' in col))]\n",
    "df_full_table[['seller_city', 'customer_city', 'seller_id', 'customer_id'] + coords_cols]"
   ]
  },
  {
   "cell_type": "code",
   "execution_count": 31,
   "id": "6ab18eb6",
   "metadata": {},
   "outputs": [],
   "source": [
    "# df_full_table.to_csv('df_full.csv', sep=';', decimal='.')"
   ]
  },
  {
   "cell_type": "code",
   "execution_count": 32,
   "id": "ce0beb5d",
   "metadata": {},
   "outputs": [],
   "source": [
    "def calculate_distance_between_seller_and_customer(seller_id, customer_id):\n",
    "    seller_lat = df_full_table[df_full_table['seller_id'] == seller_id]['geolocation_lat_seller'].head(1).values[0]\n",
    "    seller_lng = df_full_table[df_full_table['seller_id'] == seller_id]['geolocation_lng_seller'].head(1).values[0]\n",
    "\n",
    "    customer_lat = df_full_table[df_full_table['customer_id'] == customer_id]['geolocation_lat_customer'].head(1).values[0]\n",
    "    customer_lng = df_full_table[df_full_table['customer_id'] == customer_id]['geolocation_lng_customer'].head(1).values[0]\n",
    "    \n",
    "    return distance(lat1=seller_lat, lat2=customer_lat, lon1=seller_lng , lon2=customer_lng)"
   ]
  },
  {
   "cell_type": "code",
   "execution_count": 33,
   "id": "046c95dc",
   "metadata": {},
   "outputs": [],
   "source": [
    "orders_date_columns = ['order_purchase_timestamp', 'order_approved_at', 'order_delivered_carrier_date', 'order_delivered_customer_date', 'order_estimated_delivery_date']"
   ]
  },
  {
   "cell_type": "code",
   "execution_count": null,
   "id": "5b1a2770",
   "metadata": {},
   "outputs": [],
   "source": []
  },
  {
   "cell_type": "code",
   "execution_count": 34,
   "id": "11097b10",
   "metadata": {},
   "outputs": [],
   "source": [
    "df_customer_seller_distance_analysis = df_full_table.drop_duplicates('order_id')[['customer_id', 'seller_id'] + coords_cols + orders_date_columns]"
   ]
  },
  {
   "cell_type": "code",
   "execution_count": 35,
   "id": "e26ec263",
   "metadata": {},
   "outputs": [],
   "source": [
    "df_customer_seller_distance_analysis = df_customer_seller_distance_analysis.dropna(subset=['customer_id', 'seller_id'])"
   ]
  },
  {
   "cell_type": "code",
   "execution_count": null,
   "id": "9385d3c8",
   "metadata": {},
   "outputs": [],
   "source": [
    "%%time\n",
    "df_customer_seller_distance_analysis['distance'] = \\\n",
    "                            df_customer_seller_distance_analysis.apply(lambda row : distance(lat1=row['geolocation_lat_seller'],\n",
    "                                     lat2=row['geolocation_lat_customer'],\n",
    "                                     lon1=row['geolocation_lng_seller'] ,\n",
    "                                     lon2=row['geolocation_lng_customer']), axis=1)"
   ]
  },
  {
   "cell_type": "markdown",
   "id": "7a0c95e2",
   "metadata": {},
   "source": [
    "# CORRELATION Hours to deliever X  Distance"
   ]
  },
  {
   "cell_type": "code",
   "execution_count": null,
   "id": "d8b95ce4",
   "metadata": {},
   "outputs": [],
   "source": [
    "df_customer_seller_distance_analysis"
   ]
  },
  {
   "cell_type": "markdown",
   "id": "4d1f1842",
   "metadata": {},
   "source": [
    "# Creating Video with Sellers/Customer evolution on Map"
   ]
  },
  {
   "cell_type": "code",
   "execution_count": null,
   "id": "6a4355ea",
   "metadata": {},
   "outputs": [],
   "source": [
    "df_video = df_customer_seller_distance_analysis[['order_purchase_timestamp','geolocation_lat_customer','geolocation_lng_customer','geolocation_lat_seller','geolocation_lng_seller']]"
   ]
  },
  {
   "cell_type": "code",
   "execution_count": null,
   "id": "960dc4e1",
   "metadata": {},
   "outputs": [],
   "source": [
    "df_video['purchase_date'] = df_video['order_purchase_timestamp'].dt.date"
   ]
  },
  {
   "cell_type": "code",
   "execution_count": null,
   "id": "6f2cf2ce",
   "metadata": {},
   "outputs": [],
   "source": [
    "dates = df_video.sort_values('purchase_date', ascending=True).reset_index(drop=True)['purchase_date']"
   ]
  },
  {
   "cell_type": "code",
   "execution_count": null,
   "id": "fecf4e14",
   "metadata": {},
   "outputs": [],
   "source": [
    "unique_dates = dates.unique()"
   ]
  },
  {
   "cell_type": "code",
   "execution_count": null,
   "id": "2ee43ba8",
   "metadata": {},
   "outputs": [],
   "source": [
    "# import pandas as pd\n",
    "# from datetime import datetime\n",
    "\n",
    "# MIN = df_full_table['order_purchase_timestamp'].min()\n",
    "# MAX = df_full_table['order_purchase_timestamp'].max()\n",
    "\n",
    "# dates = pd.date_range(start=MIN, end=MAX, freq='W')"
   ]
  },
  {
   "cell_type": "code",
   "execution_count": null,
   "id": "9e3ab253",
   "metadata": {},
   "outputs": [],
   "source": [
    "df_aux = df_video[df_video['purchase_date'] <= date]\n",
    "# Para tirar a densidade do gráfico, exibe uma amostra de 10% do total\n",
    "\n",
    "fig, ax = plt.subplots(figsize = (18,21))\n",
    "\n",
    "sns.scatterplot(data=df_aux,\n",
    "                x='geolocation_lng_customer',\n",
    "                y='geolocation_lat_customer',\n",
    "#                 hue='Cluster',\n",
    "                alpha=0.8,\n",
    "                size=200,\n",
    "#                 sizes=(100, 300),\n",
    "                linewidth=0.4,\n",
    "                palette='dark')\n",
    "\n",
    "\n",
    "sns.scatterplot(data=df_aux,\n",
    "                x='geolocation_lng_seller',\n",
    "                y='geolocation_lat_seller',\n",
    "#                 hue='Cluster',\n",
    "                alpha=0.8,\n",
    "                size=800,\n",
    "                color='red',\n",
    "#                 sizes=(100, 300),\n",
    "                linewidth=0.0,\n",
    "                palette='dark')\n",
    "\n",
    "\n",
    "plt.style.use('dark_background')\n",
    "ax.set_xlim(-70,-32);\n",
    "ax.set_ylim(-36,5);"
   ]
  },
  {
   "cell_type": "code",
   "execution_count": null,
   "id": "b7febd32",
   "metadata": {
    "scrolled": true
   },
   "outputs": [],
   "source": [
    "%%time\n",
    "\n",
    "for date in unique_dates:\n",
    "    df_aux = df_video[df_video['purchase_date'] <= date]\n",
    "    # Para tirar a densidade do gráfico, exibe uma amostra de 10% do total\n",
    "\n",
    "    fig, ax = plt.subplots(figsize = (18,21))\n",
    "\n",
    "    sns.scatterplot(data=df_aux,\n",
    "                    x='geolocation_lng_customer',\n",
    "                    y='geolocation_lat_customer',\n",
    "                    alpha=0.8,\n",
    "                    size=200,\n",
    "                    linewidth=0.4,\n",
    "                    palette='dark')\n",
    "\n",
    "\n",
    "    sns.scatterplot(data=df_aux,\n",
    "                    x='geolocation_lng_seller',\n",
    "                    y='geolocation_lat_seller',\n",
    "                    alpha=0.8,\n",
    "                    size=800,\n",
    "                    color='red',\n",
    "                    linewidth=0.0,\n",
    "                    palette='dark')\n",
    "\n",
    "\n",
    "    plt.style.use('dark_background')\n",
    "    ax.set_xlim(-70,-32);\n",
    "    ax.set_ylim(-36,5);\n",
    "\n",
    "    plt.savefig(f'./evolution_map_daily_and_seller/customers_date_{date}.png')"
   ]
  },
  {
   "cell_type": "code",
   "execution_count": null,
   "id": "5b7c8c87",
   "metadata": {},
   "outputs": [],
   "source": [
    "import cv2\n",
    "import numpy as np\n",
    "import glob\n",
    "\n",
    "img_array = []\n",
    "for filename in glob.glob('./evolution_map_daily_and_seller/*.png'):\n",
    "    img = cv2.imread(filename)\n",
    "    height, width, layers = img.shape\n",
    "    size = (width,height)\n",
    "    img_array.append(img)\n",
    "\n",
    "\n",
    "out = cv2.VideoWriter('video_customers_evolution_map_daily_and_seller.avi',cv2.VideoWriter_fourcc(*'DIVX'), 15, size)\n",
    " \n",
    "for i in range(len(img_array)):\n",
    "    out.write(img_array[i])\n",
    "out.release()"
   ]
  },
  {
   "cell_type": "code",
   "execution_count": null,
   "id": "55056850",
   "metadata": {},
   "outputs": [],
   "source": [
    "# ! pip install opencv-python"
   ]
  },
  {
   "cell_type": "code",
   "execution_count": null,
   "id": "883153f1",
   "metadata": {},
   "outputs": [],
   "source": [
    "import matplotlib.pyplot as plt\n",
    "\n",
    "x=[-1 ,0.5 ,1,-0.5]\n",
    "y=[ 0.5,  1, -0.5, -1]\n",
    "\n",
    "plt.plot(x,y, 'ro')\n",
    "\n",
    "def connectpoints(x,y,p1,p2):\n",
    "    x1, x2 = x[p1], x[p2]\n",
    "    y1, y2 = y[p1], y[p2]\n",
    "    plt.plot([x1,x2],[y1,y2],'k-')\n",
    "\n",
    "connectpoints(x,y,0,1)\n",
    "connectpoints(x,y,2,3)\n",
    "\n",
    "plt.axis('equal')\n",
    "plt.show()"
   ]
  },
  {
   "cell_type": "code",
   "execution_count": null,
   "id": "23bf8c3d",
   "metadata": {},
   "outputs": [],
   "source": []
  },
  {
   "cell_type": "code",
   "execution_count": null,
   "id": "aacddb42",
   "metadata": {},
   "outputs": [],
   "source": [
    "import seaborn as sns\n",
    "import pandas as pd\n",
    "from sklearn.cluster import KMeans\n",
    "\n",
    "\n",
    "N_CLUSTER = 8\n",
    "INIT = 'k-means++'\n",
    "N_INIT = 10\n",
    "MAX_ITER = 300\n",
    "\n",
    "\n",
    "kmeans = KMeans(n_clusters = N_CLUSTER, #numero de clusters\n",
    "                init = INIT,\n",
    "                n_init = N_INIT, #algoritmo que define a posição dos clusters de maneira mais assertiva\n",
    "                max_iter = MAX_ITER)\n",
    "\n",
    "COLUMNS_TO_CLUSTER = [ # tirei 'number_of_orders'\n",
    "                   'avg_distance_scaled',\n",
    "                   'avg_ticket_scaled',\n",
    "                   'lat_scaled', 'lng_scaled',\n",
    "                   'avg_hours_to_deliver_scaled',\n",
    "                   'avg_hours_delay_scaled',\n",
    "                   'avg_freight_value_scaled']\n",
    "\n",
    "\n",
    "kmeans.fit(df_concated[COLUMNS_TO_CLUSTER])\n",
    "\n",
    "df_concated['Cluster'] = kmeans.predict(df_concated[COLUMNS_TO_CLUSTER])"
   ]
  },
  {
   "cell_type": "code",
   "execution_count": null,
   "id": "37dbad55",
   "metadata": {},
   "outputs": [],
   "source": []
  }
 ],
 "metadata": {
  "kernelspec": {
   "display_name": "Python 3 (ipykernel)",
   "language": "python",
   "name": "python3"
  },
  "language_info": {
   "codemirror_mode": {
    "name": "ipython",
    "version": 3
   },
   "file_extension": ".py",
   "mimetype": "text/x-python",
   "name": "python",
   "nbconvert_exporter": "python",
   "pygments_lexer": "ipython3",
   "version": "3.9.7"
  }
 },
 "nbformat": 4,
 "nbformat_minor": 5
}
